{
 "cells": [
  {
   "cell_type": "code",
   "execution_count": null,
   "id": "7bb98ee8",
   "metadata": {},
   "outputs": [],
   "source": []
  },
  {
   "cell_type": "code",
   "execution_count": 1,
   "id": "44857b6f",
   "metadata": {},
   "outputs": [
    {
     "name": "stdout",
     "output_type": "stream",
     "text": [
      "None\n",
      "\n"
     ]
    }
   ],
   "source": [
    "from tkinter import*\n",
    "from tkinter import Menu,scrolledtext,filedialog\n",
    "from tkinter.ttk import Frame,Notebook\n",
    "\n",
    "\n",
    "def clicked():\n",
    "    file=filedialog.askopenfile()\n",
    "    print(file)\n",
    "\n",
    "    \n",
    "\n",
    "def save():\n",
    "    file=filedialog.asksaveasfilename()\n",
    "    print (file)\n",
    "\n",
    "\n",
    "def notebook():\n",
    "    window=Tk()\n",
    "    menu=Menu(window)\n",
    "    txt=scrolledtext.ScrolledText(window,height=100,width=100)\n",
    "    txt.insert(INSERT,'')\n",
    "    txt.pack()\n",
    "\n",
    "    newitem1=Menu(menu,tearoff=0)\n",
    "    newitem1.add_cascade(label='New Notebook',command=notebook)\n",
    "    newitem1.add_command(label='open',command=clicked)\n",
    "    newitem1.add_command(label='save',command=save)\n",
    "\n",
    "    newitem1.add_separator()\n",
    "    newitem1.add_command(label='make a copy')\n",
    "\n",
    "    newitem2=Menu(menu,tearoff=0)\n",
    "    newitem2.add_command(label='cut')\n",
    "    newitem2.add_command(label='copy')\n",
    "\n",
    "    newitem3=Menu(menu,tearoff=0)\n",
    "    newitem3.add_command(label='Toogle header')\n",
    "    newitem3.add_command(label='Toogle Toolbar')\n",
    "    newitem3.add_command(label='Toogle line number')\n",
    "    newitem3.add_command(label='cell toolbar')\n",
    "\n",
    "    newitem4=Menu(menu,tearoff=0)\n",
    "    newitem4.add_command(label='insert cell above')\n",
    "    newitem4.add_command(label='insert cell below')\n",
    "    menu.add_cascade(label='file',menu=newitem1)\n",
    "    menu.add_cascade(label='edit',menu=newitem2)\n",
    "    menu.add_cascade(label='view',menu=newitem3)\n",
    "    menu.add_cascade(label='insert',menu=newitem4)\n",
    "\n",
    "\n",
    "\n",
    "\n",
    "\n",
    "\n",
    "\n",
    "\n",
    "\n",
    "\n",
    "\n",
    "\n",
    "\n",
    "\n",
    "\n",
    "\n",
    "    \n",
    "    window.config(menu=menu)\n",
    "\n",
    "    window.mainloop()\n",
    "notebook()\n",
    "\n"
   ]
  },
  {
   "cell_type": "code",
   "execution_count": null,
   "id": "7f848670",
   "metadata": {},
   "outputs": [],
   "source": []
  },
  {
   "cell_type": "code",
   "execution_count": null,
   "id": "d8079a26",
   "metadata": {},
   "outputs": [],
   "source": []
  }
 ],
 "metadata": {
  "kernelspec": {
   "display_name": "Python 3 (ipykernel)",
   "language": "python",
   "name": "python3"
  },
  "language_info": {
   "codemirror_mode": {
    "name": "ipython",
    "version": 3
   },
   "file_extension": ".py",
   "mimetype": "text/x-python",
   "name": "python",
   "nbconvert_exporter": "python",
   "pygments_lexer": "ipython3",
   "version": "3.10.9"
  }
 },
 "nbformat": 4,
 "nbformat_minor": 5
}
