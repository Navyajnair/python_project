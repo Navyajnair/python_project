{
 "cells": [
  {
   "cell_type": "code",
   "execution_count": 1,
   "id": "045eca60",
   "metadata": {},
   "outputs": [
    {
     "name": "stdout",
     "output_type": "stream",
     "text": [
      "Welcome to Hand Cricket!\n",
      "Enter your move (1-6): 1\n",
      "Player chose 1\n",
      "Computer chose 6\n",
      "Player's current score: 1\n",
      "Enter your move (1-6): 2\n",
      "Player chose 2\n",
      "Computer chose 1\n",
      "Player's current score: 3\n",
      "Enter your move (1-6): 1\n",
      "Player chose 1\n",
      "Computer chose 1\n",
      "Player is out!\n",
      " Player is out . Player's score: 3\n",
      "Computer inning.\n",
      "Enter your move (1-6): 2\n",
      "Computer chose 4\n",
      "Player chose 2\n",
      "Computer's current score: 4\n",
      "Enter your move (1-6): 1\n",
      "Computer chose 1\n",
      "Player chose 1\n",
      "Computer is out!\n",
      " Computer is out . Computer's score: 4\n",
      "Player inning.\n",
      "Computer wins! Your score: 3, Computer's score: 4\n"
     ]
    }
   ],
   "source": [
    "import random\n",
    "\n",
    "def get_player_move():\n",
    "    while True:\n",
    "        try:\n",
    "            player_move = int(input(\"Enter your move (1-6): \"))\n",
    "            if 1 <= player_move <= 6:\n",
    "                return player_move\n",
    "            else:\n",
    "                print(\"Invalid input. Please enter a number between 1 and 6.\")\n",
    "        except ValueError:\n",
    "            print(\"Invalid input. Please enter a number.\")\n",
    "\n",
    "def get_computer_move():\n",
    "    return random.randint(1, 6)\n",
    "\n",
    "def play_inning(batter, bowler):\n",
    "    score = 0\n",
    "\n",
    "    while True:\n",
    "        if batter == \"Player\":\n",
    "            player_move = get_player_move()\n",
    "            computer_move = get_computer_move()\n",
    "        else:\n",
    "            player_move = get_computer_move()\n",
    "            computer_move = get_player_move()\n",
    "\n",
    "        print(f\"{batter} chose {player_move}\") \n",
    "        print(f\"{bowler} chose {computer_move}\")\n",
    "\n",
    "        if player_move == computer_move:\n",
    "            print(f\"{batter} is out!\")\n",
    "            break\n",
    "        else:\n",
    "            score += player_move\n",
    "            print(f\"{batter}'s current score: {score}\")\n",
    "\n",
    "    print(f\" {batter} is out . {batter}'s score: {score}\")\n",
    "    print(f\"{bowler} inning.\")\n",
    "    return score\n",
    "\n",
    "def main():\n",
    "    print(\"Welcome to Hand Cricket!\")\n",
    "\n",
    "    player_score = play_inning(\"Player\", \"Computer\")\n",
    "    computer_score = play_inning(\"Computer\", \"Player\")\n",
    "\n",
    "    if player_score > computer_score:\n",
    "        print(f\"You win! Your score: {player_score}, Computer's score: {computer_score}\")\n",
    "    elif player_score < computer_score:\n",
    "        print(f\"Computer wins! Your score: {player_score}, Computer's score: {computer_score}\")\n",
    "    else:\n",
    "        print(f\"It's a tie! Your score: {player_score}, Computer's score: {computer_score}\")\n",
    "\n",
    "if __name__ == \"__main__\":\n",
    "    main()\n"
   ]
  },
  {
   "cell_type": "code",
   "execution_count": null,
   "id": "8daeed55",
   "metadata": {},
   "outputs": [],
   "source": []
  },
  {
   "cell_type": "code",
   "execution_count": null,
   "id": "a6f734d2",
   "metadata": {},
   "outputs": [],
   "source": [
    "\n",
    "\n"
   ]
  },
  {
   "cell_type": "code",
   "execution_count": null,
   "id": "87cf5c3d",
   "metadata": {},
   "outputs": [],
   "source": [
    "\n",
    "                \n",
    "           \n",
    "            \n",
    "            \n",
    "            \n",
    "\n",
    "              "
   ]
  },
  {
   "cell_type": "code",
   "execution_count": null,
   "id": "2e13d700",
   "metadata": {},
   "outputs": [],
   "source": []
  },
  {
   "cell_type": "code",
   "execution_count": null,
   "id": "8a482513",
   "metadata": {},
   "outputs": [],
   "source": []
  },
  {
   "cell_type": "code",
   "execution_count": null,
   "id": "bd23a99d",
   "metadata": {},
   "outputs": [],
   "source": []
  },
  {
   "cell_type": "code",
   "execution_count": null,
   "id": "abfbf6fd",
   "metadata": {},
   "outputs": [],
   "source": []
  },
  {
   "cell_type": "code",
   "execution_count": null,
   "id": "e06f3f3b",
   "metadata": {},
   "outputs": [],
   "source": []
  },
  {
   "cell_type": "code",
   "execution_count": null,
   "id": "7c21fc64",
   "metadata": {},
   "outputs": [],
   "source": []
  },
  {
   "cell_type": "code",
   "execution_count": null,
   "id": "3625798b",
   "metadata": {},
   "outputs": [],
   "source": []
  },
  {
   "cell_type": "code",
   "execution_count": null,
   "id": "4f9bb002",
   "metadata": {},
   "outputs": [],
   "source": []
  },
  {
   "cell_type": "code",
   "execution_count": null,
   "id": "b4aeafea",
   "metadata": {},
   "outputs": [],
   "source": []
  },
  {
   "cell_type": "code",
   "execution_count": null,
   "id": "07d97642",
   "metadata": {},
   "outputs": [
    {
     "name": "stdout",
     "output_type": "stream",
     "text": [
      "Welcome to Hand Cricket!\n",
      "Enter your move (1-6): 1\n",
      "Player chose 1, Computer chose 4\n",
      "Player's current score: 1\n"
     ]
    }
   ],
   "source": [
    "import random\n",
    "\n",
    "def get_player_move():\n",
    "    while True:\n",
    "        try:\n",
    "            player_move = int(input(\"Enter your move (1-6): \"))\n",
    "            if 1 <= player_move <= 6:\n",
    "                return player_move\n",
    "            else:\n",
    "                print(\"Invalid input. Please enter a number between 1 and 6.\")\n",
    "        except ValueError:\n",
    "            print(\"Invalid input. Please enter a number.\")\n",
    "\n",
    "def get_computer_move():\n",
    "    return random.randint(1, 6)\n",
    "\n",
    "def play_inning(batter, bowler):\n",
    "    score = 0\n",
    "\n",
    "    while True:\n",
    "        if batter == \"Player\":\n",
    "            player_move = get_player_move()\n",
    "            computer_move = get_computer_move()\n",
    "        else:\n",
    "            player_move = get_computer_move()\n",
    "            computer_move = get_player_move()\n",
    "\n",
    "        print(f\"{batter} chose {player_move}, {bowler} chose {computer_move}\")\n",
    "\n",
    "        if player_move == computer_move:\n",
    "            print(f\"{batter} is out!\")\n",
    "            break\n",
    "        else:\n",
    "            score += player_move\n",
    "            print(f\"{batter}'s current score: {score}\")\n",
    "\n",
    "    print(f\"End of {batter}'s {bowl} inning. {batter}'s score: {score}\")\n",
    "    return score\n",
    "\n",
    "def main():\n",
    "    print(\"Welcome to Hand Cricket!\")\n",
    "\n",
    "    player_score = play_inning(\"Player\", \"Computer\")\n",
    "    computer_score = play_inning(\"Computer\", \"Player\")\n",
    "\n",
    "    if player_score > computer_score:\n",
    "        print(f\"You win! Your score: {player_score}, Computer's score: {computer_score}\")\n",
    "    elif player_score < computer_score:\n",
    "        print(f\"Computer wins! Your score: {player_score}, Computer's score: {computer_score}\")\n",
    "    else:\n",
    "        print(f\"It's a tie! Your score: {player_score}, Computer's score: {computer_score}\")\n",
    "\n",
    "if __name__ == \"__main__\":\n",
    "    main()\n"
   ]
  },
  {
   "cell_type": "code",
   "execution_count": null,
   "id": "6fa82aee",
   "metadata": {},
   "outputs": [],
   "source": []
  },
  {
   "cell_type": "code",
   "execution_count": null,
   "id": "966f6c77",
   "metadata": {},
   "outputs": [],
   "source": []
  },
  {
   "cell_type": "code",
   "execution_count": null,
   "id": "aefa23ef",
   "metadata": {},
   "outputs": [],
   "source": []
  },
  {
   "cell_type": "code",
   "execution_count": null,
   "id": "7b5b3148",
   "metadata": {},
   "outputs": [],
   "source": []
  },
  {
   "cell_type": "code",
   "execution_count": null,
   "id": "b0166f7b",
   "metadata": {},
   "outputs": [],
   "source": []
  },
  {
   "cell_type": "code",
   "execution_count": null,
   "id": "37f1fecb",
   "metadata": {},
   "outputs": [],
   "source": []
  },
  {
   "cell_type": "code",
   "execution_count": null,
   "id": "453b422f",
   "metadata": {},
   "outputs": [],
   "source": []
  },
  {
   "cell_type": "code",
   "execution_count": null,
   "id": "86c0ac8a",
   "metadata": {},
   "outputs": [],
   "source": []
  },
  {
   "cell_type": "code",
   "execution_count": null,
   "id": "a398783c",
   "metadata": {},
   "outputs": [],
   "source": []
  },
  {
   "cell_type": "code",
   "execution_count": null,
   "id": "7c239115",
   "metadata": {},
   "outputs": [],
   "source": []
  },
  {
   "cell_type": "code",
   "execution_count": null,
   "id": "6e2fa7e7",
   "metadata": {},
   "outputs": [],
   "source": []
  },
  {
   "cell_type": "code",
   "execution_count": null,
   "id": "178ff3c5",
   "metadata": {},
   "outputs": [],
   "source": []
  },
  {
   "cell_type": "code",
   "execution_count": 9,
   "id": "1a5ebaea",
   "metadata": {},
   "outputs": [],
   "source": []
  },
  {
   "cell_type": "code",
   "execution_count": null,
   "id": "661db6b0",
   "metadata": {},
   "outputs": [],
   "source": []
  },
  {
   "cell_type": "code",
   "execution_count": null,
   "id": "b2e4f966",
   "metadata": {},
   "outputs": [],
   "source": []
  },
  {
   "cell_type": "code",
   "execution_count": null,
   "id": "e72c14f2",
   "metadata": {},
   "outputs": [],
   "source": []
  },
  {
   "cell_type": "code",
   "execution_count": null,
   "id": "f3c7b223",
   "metadata": {},
   "outputs": [],
   "source": []
  },
  {
   "cell_type": "code",
   "execution_count": null,
   "id": "8bebedec",
   "metadata": {},
   "outputs": [],
   "source": []
  }
 ],
 "metadata": {
  "kernelspec": {
   "display_name": "Python 3 (ipykernel)",
   "language": "python",
   "name": "python3"
  },
  "language_info": {
   "codemirror_mode": {
    "name": "ipython",
    "version": 3
   },
   "file_extension": ".py",
   "mimetype": "text/x-python",
   "name": "python",
   "nbconvert_exporter": "python",
   "pygments_lexer": "ipython3",
   "version": "3.10.9"
  }
 },
 "nbformat": 4,
 "nbformat_minor": 5
}
