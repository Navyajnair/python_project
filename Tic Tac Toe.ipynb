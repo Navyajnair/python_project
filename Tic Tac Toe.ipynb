{
 "cells": [
  {
   "cell_type": "code",
   "execution_count": 1,
   "id": "4b0bb43a",
   "metadata": {},
   "outputs": [
    {
     "name": "stdout",
     "output_type": "stream",
     "text": [
      "enter name of player_1:kavya\n",
      "enter name of player_2:navya\n"
     ]
    }
   ],
   "source": [
    "player_1 = str(input('enter name of player_1:'))\n",
    "player_2 = str(input('enter name of player_2:'))\n",
    "   "
   ]
  },
  {
   "cell_type": "code",
   "execution_count": 2,
   "id": "70de70f9",
   "metadata": {},
   "outputs": [],
   "source": [
    "import random\n",
    "a=[player_1,player_2]\n",
    "b=random.choice(a)"
   ]
  },
  {
   "cell_type": "code",
   "execution_count": 3,
   "id": "1e5ca9ac",
   "metadata": {},
   "outputs": [
    {
     "name": "stdout",
     "output_type": "stream",
     "text": [
      "enter the choice of frist player:x\n",
      "enter the choice of second player:o\n"
     ]
    }
   ],
   "source": [
    "choice1=input(\"enter the choice of frist player:\")\n",
    "choice2=input(\"enter the choice of second player:\")\n"
   ]
  },
  {
   "cell_type": "code",
   "execution_count": 4,
   "id": "0183dde5",
   "metadata": {},
   "outputs": [],
   "source": [
    "board={1:\" \",2:\" \",3:\" \",4:\" \",5:\" \",6:\" \",7:\" \",8:\" \",9:\" \"}"
   ]
  },
  {
   "cell_type": "code",
   "execution_count": 5,
   "id": "81ecdc97",
   "metadata": {},
   "outputs": [],
   "source": [
    "currentplayer='x'or'o'"
   ]
  },
  {
   "cell_type": "code",
   "execution_count": 6,
   "id": "51a8bc90",
   "metadata": {},
   "outputs": [],
   "source": [
    "mark=['x' or 'o']"
   ]
  },
  {
   "cell_type": "code",
   "execution_count": 7,
   "id": "5a16f2c5",
   "metadata": {},
   "outputs": [],
   "source": [
    "def display_board(board):\n",
    "    print(f'{board[1]} | {board[2]} | {board[3]}')\n",
    "    print('-'*10)\n",
    "    print(f'{board[4]} | {board[5]} | {board[6]}')\n",
    "    print('-'*10)\n",
    "    print(f'{board[7]} | {board[8]} | {board[9]}')\n",
    "    "
   ]
  },
  {
   "cell_type": "code",
   "execution_count": 8,
   "id": "b269b78f",
   "metadata": {},
   "outputs": [
    {
     "name": "stdout",
     "output_type": "stream",
     "text": [
      "  |   |  \n",
      "----------\n",
      "  |   |  \n",
      "----------\n",
      "  |   |  \n"
     ]
    }
   ],
   "source": [
    "display_board(board)"
   ]
  },
  {
   "cell_type": "code",
   "execution_count": 9,
   "id": "4fdcca72",
   "metadata": {},
   "outputs": [
    {
     "name": "stdout",
     "output_type": "stream",
     "text": [
      "frist chance is for the frist player\n"
     ]
    }
   ],
   "source": [
    "print(\"frist chance is for the frist player\")"
   ]
  },
  {
   "cell_type": "code",
   "execution_count": null,
   "id": "f0a120fd",
   "metadata": {},
   "outputs": [
    {
     "name": "stdout",
     "output_type": "stream",
     "text": [
      "x | x | x\n",
      "----------\n",
      "x | o | o\n",
      "----------\n",
      "o |   | o\n",
      "  please enter a number b\\w 1-9:5\n",
      "  please enter a number b\\w 1-9:\n"
     ]
    }
   ],
   "source": [
    "from IPython.display import clear_output\n",
    "board={1:\" \",2:\" \",3:\" \",4:\" \",5:\" \",6:\" \",7:\" \",8:\" \",9:\" \"}\n",
    "mark='x'\n",
    "def check_win(board):\n",
    "    global won\n",
    "    won=False\n",
    "    mark=['x','o']\n",
    "    if(board[1]=='x' and board[2]=='x' and board[3]=='X')or (board[1]=='o' and board[2]=='o'and board[3]=='o') :\n",
    "        print ('winner is,b')\n",
    "        won=True                                    \n",
    "    elif(board[4]=='x' and board[5]=='x' and board[6]=='X')or (board[4]=='o' and board[5]=='o'and board[6]=='o') :\n",
    "        print ('winner is,b')\n",
    "        won=True         \n",
    "    elif (board[7]=='x' and board[8]=='x' and board[9]=='X')or (board[7]=='o' and board[8]=='o'and board[9]=='o') :\n",
    "        print ('winner is,b')\n",
    "        won=True         \n",
    "    elif (board[1]=='x' and board[4]=='x' and board[7]=='X')or (board[1]=='o' and board[4]=='o'and board[7]=='o') :\n",
    "        print ('winner is,b')\n",
    "        won=True         \n",
    "    elif  (board[2]=='x' and board[5]=='x' and board[8]=='X')or (board[2]=='o' and board[5]=='o'and board[8]=='o') :\n",
    "        print ('winner is,b')\n",
    "        won=True         \n",
    "    elif (board[3]=='x' and board[6]=='x' and board[9]=='X')or (board[3]=='o' and board[6]=='o'and board[9]=='o') :\n",
    "        print ('winner is,b')\n",
    "        won=True         \n",
    "    elif (board[7]=='x' and board[5]=='x' and board[3]=='X')or (board[7]=='o' and board[5]=='o'and board[3]=='o') :\n",
    "        print ('winner is,b')\n",
    "        won=True         \n",
    "    elif (board[1]=='x' and board[5]=='x' and board[9]=='X')or (board[1]=='o' and board[5]=='o'and board[9]=='o') :\n",
    "        print ('winner is,b')\n",
    "        won=True         \n",
    "    elif (board[1]!=\" \"and board[2]!=\" \"and board[3]!=\" \"and board[4]!=\" \"and  board[5]!=\" \"and board[6]!=\" \"and  board[7]!=\" \"and board[8]!=\" \"and board[9]!=\" \"):\n",
    "        print ('tie')    \n",
    "    else:\n",
    "         pass         \n",
    "        \n",
    "        \n",
    "while True:\n",
    "        r=input(\"  please enter a number b\\w 1-9:\")\n",
    "        if r=='1'or r=='2'or r=='3'or r=='4'or r=='5'or r=='6' or r=='7'or r=='8' or r=='9':\n",
    "            r=int(r)\n",
    "            if mark=='x':\n",
    "                if  board[r]!=' ':\n",
    "                    continue\n",
    "                board[r]='x'\n",
    "                mark=  'o'\n",
    "            clear_output()\n",
    "            check_win(board)\n",
    "            display_board(board)\n",
    "            if won:\n",
    "                break\n",
    "            elif mark =='o':\n",
    "                if board[r]!=' ':\n",
    "                    continue\n",
    "                board[r]='o'\n",
    "                mark='x'\n",
    "            clear_output()\n",
    "            check_win(board)\n",
    "            display_board(board) \n",
    "            if won:\n",
    "                break\n",
    "                      \n",
    "        \n",
    "        \n",
    "        \n",
    "                                              "
   ]
  },
  {
   "cell_type": "code",
   "execution_count": null,
   "id": "913f0524",
   "metadata": {},
   "outputs": [],
   "source": [
    "\n",
    "\n"
   ]
  },
  {
   "cell_type": "code",
   "execution_count": null,
   "id": "bdfe3888",
   "metadata": {},
   "outputs": [],
   "source": []
  },
  {
   "cell_type": "code",
   "execution_count": null,
   "id": "8013024f",
   "metadata": {},
   "outputs": [],
   "source": [
    "\n",
    "        \n",
    "            \n",
    "    \n",
    "            \n",
    "    "
   ]
  },
  {
   "cell_type": "code",
   "execution_count": null,
   "id": "67d7205d",
   "metadata": {},
   "outputs": [],
   "source": []
  },
  {
   "cell_type": "code",
   "execution_count": null,
   "id": "39a61503",
   "metadata": {},
   "outputs": [],
   "source": []
  },
  {
   "cell_type": "code",
   "execution_count": null,
   "id": "ac3e8e44",
   "metadata": {},
   "outputs": [],
   "source": [
    "\n",
    "\n"
   ]
  },
  {
   "cell_type": "code",
   "execution_count": null,
   "id": "240b86d5",
   "metadata": {},
   "outputs": [],
   "source": [
    "\n",
    "    "
   ]
  },
  {
   "cell_type": "code",
   "execution_count": null,
   "id": "9dc5a0a8",
   "metadata": {},
   "outputs": [],
   "source": [
    "\n",
    "    "
   ]
  },
  {
   "cell_type": "code",
   "execution_count": null,
   "id": "d6fbee2e",
   "metadata": {},
   "outputs": [],
   "source": []
  },
  {
   "cell_type": "code",
   "execution_count": null,
   "id": "fe82861d",
   "metadata": {},
   "outputs": [],
   "source": []
  },
  {
   "cell_type": "code",
   "execution_count": null,
   "id": "33e1a500",
   "metadata": {},
   "outputs": [],
   "source": []
  },
  {
   "cell_type": "code",
   "execution_count": null,
   "id": "65f8a53f",
   "metadata": {},
   "outputs": [],
   "source": []
  }
 ],
 "metadata": {
  "kernelspec": {
   "display_name": "Python 3 (ipykernel)",
   "language": "python",
   "name": "python3"
  },
  "language_info": {
   "codemirror_mode": {
    "name": "ipython",
    "version": 3
   },
   "file_extension": ".py",
   "mimetype": "text/x-python",
   "name": "python",
   "nbconvert_exporter": "python",
   "pygments_lexer": "ipython3",
   "version": "3.10.9"
  }
 },
 "nbformat": 4,
 "nbformat_minor": 5
}
